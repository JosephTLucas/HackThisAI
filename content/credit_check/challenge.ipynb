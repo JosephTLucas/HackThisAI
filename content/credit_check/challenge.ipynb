{
 "cells": [
  {
   "cell_type": "markdown",
   "id": "40a3ff9f-d176-43f8-9dc9-9a3595b36e3c",
   "metadata": {},
   "source": [
    "# Credit Check\n",
    "\n",
    "## Scenario\n",
    "You're a 19 year old making $15k. How can you get the _Platinum Mall Card_? I hear it's only offered to people with a score over 90.\n",
    "\n",
    "You know that `Mall_Customers.csv` will be used to train the credit model. Can you make one small change, rename your tampered dataset to `tamper.csv` and get yourself the _Platinum Mall Card_?\n",
    "\n",
    "## Objective\n",
    "Poison the training data so that you (a 19 year old making $15k) get approved for the _Platinum Mall Card_."
   ]
  },
  {
   "cell_type": "code",
   "execution_count": 1,
   "id": "1d376dbd-913a-4609-b635-180d09c0f781",
   "metadata": {},
   "outputs": [],
   "source": [
    "# Here's the csv you need to modify.\n",
    "# Do it in memory. Don't write the csv back out to the data directory.\n",
    "\n",
    "import pandas as pd\n",
    "\n",
    "df = pd.read_csv(\"data/Mall_Customers.csv\")\n",
    "df.head()"
   ]
  },
  {
   "cell_type": "code",
   "execution_count": 2,
   "id": "93f8cd7a-57e2-44b1-b1cf-bcff534c6ad3",
   "metadata": {},
   "outputs": [],
   "source": [
    "# Your code here"
   ]
  },
  {
   "cell_type": "code",
   "execution_count": 5,
   "id": "0611906a-5f0a-49c0-bc0a-a00c056080e4",
   "metadata": {},
   "outputs": [
    {
     "data": {
      "text/plain": [
       "\"You don't qualify. Try again.\""
      ]
     },
     "execution_count": 5,
     "metadata": {},
     "output_type": "execute_result"
    }
   ],
   "source": [
    "# This code checks your submission.\n",
    "# Don't change.\n",
    "from funcs import check\n",
    "check(df)"
   ]
  },
  {
   "cell_type": "code",
   "execution_count": null,
   "id": "a4d4bb6a-036e-401b-ace5-72c799824ba8",
   "metadata": {},
   "outputs": [],
   "source": []
  }
 ],
 "metadata": {
  "kernelspec": {
   "display_name": "Python 3 (ipykernel)",
   "language": "python",
   "name": "python3"
  },
  "language_info": {
   "codemirror_mode": {
    "name": "ipython",
    "version": 3
   },
   "file_extension": ".py",
   "mimetype": "text/x-python",
   "name": "python",
   "nbconvert_exporter": "python",
   "pygments_lexer": "ipython3",
   "version": "3.11.4"
  }
 },
 "nbformat": 4,
 "nbformat_minor": 5
}
