{
 "cells": [
  {
   "cell_type": "markdown",
   "id": "520604de-b3bc-49ad-9dcb-4041f6b258eb",
   "metadata": {},
   "source": [
    "# Bad to Good\n",
    "## Scenario\n",
    "\n",
    "You can’t buy a homecoming ticket if you get classified as a “good student”. Can you help Henry poison the classifier? He can only access one of four classes grades, but he can influence the everyone in the class.\n",
    "\n",
    "## Objective\n",
    "\n",
    "Modify and submit your tampered math.csv (in `./data`). Try and get Henry classified as a good student. Be careful to not overdo it! Don't overwrite any of the files in `./data`."
   ]
  },
  {
   "cell_type": "code",
   "execution_count": 4,
   "id": "5e51f1ac-50a5-4605-b0a1-43ac0121b597",
   "metadata": {},
   "outputs": [
    {
     "data": {
      "text/html": [
       "<div>\n",
       "<style scoped>\n",
       "    .dataframe tbody tr th:only-of-type {\n",
       "        vertical-align: middle;\n",
       "    }\n",
       "\n",
       "    .dataframe tbody tr th {\n",
       "        vertical-align: top;\n",
       "    }\n",
       "\n",
       "    .dataframe thead th {\n",
       "        text-align: right;\n",
       "    }\n",
       "</style>\n",
       "<table border=\"1\" class=\"dataframe\">\n",
       "  <thead>\n",
       "    <tr style=\"text-align: right;\">\n",
       "      <th></th>\n",
       "      <th>StudentID</th>\n",
       "      <th>FirstName</th>\n",
       "      <th>LastName</th>\n",
       "      <th>Grade</th>\n",
       "      <th>Absences</th>\n",
       "      <th>Demerits</th>\n",
       "      <th>Score</th>\n",
       "    </tr>\n",
       "  </thead>\n",
       "  <tbody>\n",
       "    <tr>\n",
       "      <th>0</th>\n",
       "      <td>1459</td>\n",
       "      <td>Ivah</td>\n",
       "      <td>Beatty</td>\n",
       "      <td>62</td>\n",
       "      <td>0</td>\n",
       "      <td>3</td>\n",
       "      <td>47</td>\n",
       "    </tr>\n",
       "    <tr>\n",
       "      <th>1</th>\n",
       "      <td>1498</td>\n",
       "      <td>Lilliana</td>\n",
       "      <td>Koss</td>\n",
       "      <td>68</td>\n",
       "      <td>0</td>\n",
       "      <td>4</td>\n",
       "      <td>48</td>\n",
       "    </tr>\n",
       "    <tr>\n",
       "      <th>2</th>\n",
       "      <td>1174</td>\n",
       "      <td>Cale</td>\n",
       "      <td>Reynolds</td>\n",
       "      <td>88</td>\n",
       "      <td>3</td>\n",
       "      <td>0</td>\n",
       "      <td>79</td>\n",
       "    </tr>\n",
       "    <tr>\n",
       "      <th>3</th>\n",
       "      <td>1473</td>\n",
       "      <td>Alanna</td>\n",
       "      <td>Schaefer</td>\n",
       "      <td>69</td>\n",
       "      <td>0</td>\n",
       "      <td>5</td>\n",
       "      <td>44</td>\n",
       "    </tr>\n",
       "    <tr>\n",
       "      <th>4</th>\n",
       "      <td>1398</td>\n",
       "      <td>Anya</td>\n",
       "      <td>Howell</td>\n",
       "      <td>82</td>\n",
       "      <td>0</td>\n",
       "      <td>0</td>\n",
       "      <td>82</td>\n",
       "    </tr>\n",
       "  </tbody>\n",
       "</table>\n",
       "</div>"
      ],
      "text/plain": [
       "   StudentID FirstName  LastName  Grade  Absences  Demerits  Score\n",
       "0       1459      Ivah    Beatty     62         0         3     47\n",
       "1       1498  Lilliana      Koss     68         0         4     48\n",
       "2       1174      Cale  Reynolds     88         3         0     79\n",
       "3       1473    Alanna  Schaefer     69         0         5     44\n",
       "4       1398      Anya    Howell     82         0         0     82"
      ]
     },
     "execution_count": 4,
     "metadata": {},
     "output_type": "execute_result"
    }
   ],
   "source": [
    "# This is the dataframe that you need to modify. Only modify it in-memory, don't save it back to the data directory.\n",
    "\n",
    "import pandas as pd\n",
    "math = pd.read_csv(\"data/math.csv\")\n",
    "math.head()"
   ]
  },
  {
   "cell_type": "code",
   "execution_count": null,
   "id": "b0cfbc9a-5d41-4b83-ae06-89f3296fb27d",
   "metadata": {},
   "outputs": [],
   "source": [
    "# Your code here\n"
   ]
  },
  {
   "cell_type": "code",
   "execution_count": 7,
   "id": "f87df7ca-a096-45ee-8e36-e83f5e42c4fb",
   "metadata": {},
   "outputs": [
    {
     "data": {
      "text/plain": [
       "'[-1.] is not good enough. The Homecoming Dance is only for _good_ students.'"
      ]
     },
     "execution_count": 7,
     "metadata": {},
     "output_type": "execute_result"
    }
   ],
   "source": [
    "# this cell checks your result. You shouldn't need to change anything.\n",
    "\n",
    "from funcs import check\n",
    "check(math)"
   ]
  },
  {
   "cell_type": "code",
   "execution_count": null,
   "id": "83793279-c926-491a-a680-0ba2e2281f1f",
   "metadata": {},
   "outputs": [],
   "source": []
  }
 ],
 "metadata": {
  "kernelspec": {
   "display_name": "Python 3 (ipykernel)",
   "language": "python",
   "name": "python3"
  },
  "language_info": {
   "codemirror_mode": {
    "name": "ipython",
    "version": 3
   },
   "file_extension": ".py",
   "mimetype": "text/x-python",
   "name": "python",
   "nbconvert_exporter": "python",
   "pygments_lexer": "ipython3",
   "version": "3.11.4"
  }
 },
 "nbformat": 4,
 "nbformat_minor": 5
}
