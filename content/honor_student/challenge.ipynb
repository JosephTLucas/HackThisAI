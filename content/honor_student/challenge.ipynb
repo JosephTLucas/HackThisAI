{
 "cells": [
  {
   "cell_type": "code",
   "execution_count": 5,
   "id": "24ac0294-14f6-43b5-8565-316d8798ec27",
   "metadata": {},
   "outputs": [],
   "source": [
    "# Preload some stuff to save time later\n",
    "from funcs import Checker\n",
    "c = Checker()"
   ]
  },
  {
   "cell_type": "markdown",
   "id": "d6795055-5771-4c01-8b5f-80e81aaaed9f",
   "metadata": {},
   "source": [
    "# F to A\n",
    "\n",
    "## Scenario\n",
    "Look at your report card! That's an F. You won't be able to go to homecoming with that grade. Can you use some carefully placed whiteout to fool your parents into thinking it's an A?\n",
    "\n",
    "## Objective\n",
    "Modify and submit your tampered `.png`. Be careful to not overdo it!"
   ]
  },
  {
   "cell_type": "code",
   "execution_count": 2,
   "id": "37089c03-647f-4d55-9c53-a3db441a14b2",
   "metadata": {},
   "outputs": [
    {
     "data": {
      "image/png": "[encoded data removed]",
      "text/plain": [
       "<PIL.PngImagePlugin.PngImageFile image mode=L size=28x28>"
      ]
     },
     "execution_count": 2,
     "metadata": {},
     "output_type": "execute_result"
    }
   ],
   "source": [
    "# Here's the image you need to manipulate\n",
    "# Only manipulate the object in memory, not the image in the data directory.\n",
    "from PIL import Image\n",
    "your_grade = Image.open(\"data/f.png\")\n",
    "your_grade"
   ]
  },
  {
   "cell_type": "code",
   "execution_count": 4,
   "id": "b4dd6bc7-fc64-4eeb-9c26-be53eb99c866",
   "metadata": {},
   "outputs": [],
   "source": [
    "# Your code here"
   ]
  },
  {
   "cell_type": "code",
   "execution_count": 3,
   "id": "83398cea-6bf6-4529-883c-85d80ed60d42",
   "metadata": {},
   "outputs": [
    {
     "data": {
      "text/plain": [
       "\"There's no way you're going to homecoming with those grades.\""
      ]
     },
     "execution_count": 3,
     "metadata": {},
     "output_type": "execute_result"
    }
   ],
   "source": [
    "# Function to check your solution. Do not modify\n",
    "\n",
    "c.check(your_grade)"
   ]
  },
  {
   "cell_type": "code",
   "execution_count": null,
   "id": "d511f73d-2a86-4533-b6aa-45e4b1de0c33",
   "metadata": {},
   "outputs": [],
   "source": []
  }
 ],
 "metadata": {
  "kernelspec": {
   "display_name": "Python 3 (ipykernel)",
   "language": "python",
   "name": "python3"
  },
  "language_info": {
   "codemirror_mode": {
    "name": "ipython",
    "version": 3
   },
   "file_extension": ".py",
   "mimetype": "text/x-python",
   "name": "python",
   "nbconvert_exporter": "python",
   "pygments_lexer": "ipython3",
   "version": "3.11.4"
  }
 },
 "nbformat": 4,
 "nbformat_minor": 5
}
