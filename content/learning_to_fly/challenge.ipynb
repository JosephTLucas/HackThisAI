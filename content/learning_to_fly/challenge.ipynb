{
 "cells": [
  {
   "cell_type": "markdown",
   "id": "e6b2c284-a494-4a02-802b-66f7d60bf1b0",
   "metadata": {},
   "source": [
    "# Learning to Fly\n",
    "\n",
    "## Scenario\n",
    "You're getting ready for your first flying lesson! The only thing is... you're too scared. You know that the airfield uses a machine learning model to predict the wind speed and that if the winds are too high, no one can fly. You hacked onto one of four sensors (index 1): the sensor that measures the maximum temperature (in celsius). The other sensors are rain (in mm, index 0), minimum temperature (in censius, index 2), and grass temperature (in celsius, index 3). Can you get class canceled for the day?\n",
    "\n",
    "## Objective\n",
    "Submit your one sensor value. You can't control the other three, but their values will be returned to you after each submission. Warning: they might change!"
   ]
  },
  {
   "cell_type": "code",
   "execution_count": 1,
   "id": "21039cd2-34e8-4013-bb1a-5671373b2f22",
   "metadata": {},
   "outputs": [],
   "source": [
    "# set your sensor value (a float) here\n",
    "val = 0.5"
   ]
  },
  {
   "cell_type": "code",
   "execution_count": 3,
   "id": "e66dd170-eefe-40ba-bea0-bb341e490ee9",
   "metadata": {},
   "outputs": [
    {
     "data": {
      "text/plain": [
       "\"Better buckle up. Class isn't canceled. The sensor values were [22  0 14  1] with a predicted wind speed of 14.43 knots.\""
      ]
     },
     "execution_count": 3,
     "metadata": {},
     "output_type": "execute_result"
    }
   ],
   "source": [
    "# Checks result, do not change\n",
    "from funcs import check\n",
    "check(val)"
   ]
  },
  {
   "cell_type": "code",
   "execution_count": null,
   "id": "d0d0f70f-b7b8-41f9-a873-cdf4587e7d67",
   "metadata": {},
   "outputs": [],
   "source": []
  }
 ],
 "metadata": {
  "kernelspec": {
   "display_name": "Python 3 (ipykernel)",
   "language": "python",
   "name": "python3"
  },
  "language_info": {
   "codemirror_mode": {
    "name": "ipython",
    "version": 3
   },
   "file_extension": ".py",
   "mimetype": "text/x-python",
   "name": "python",
   "nbconvert_exporter": "python",
   "pygments_lexer": "ipython3",
   "version": "3.11.4"
  }
 },
 "nbformat": 4,
 "nbformat_minor": 5
}
