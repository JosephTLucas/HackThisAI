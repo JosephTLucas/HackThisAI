{
 "cells": [
  {
   "cell_type": "markdown",
   "id": "bfdb57a6-bac8-46c5-b666-1acb95845a52",
   "metadata": {},
   "source": [
    "# Baseball\n",
    "## Scenario\n",
    "\n",
    "Henry has to miss baseball tryouts to get ready for his date. Can you cover for him? Henry is a pitcher and the team uses software to analyze pitch patterns to classify pitchers.\n",
    "\n",
    "## Objective\n",
    "\n",
    "Throw 15 pitches at x,y (each bounded on [0,29]). Check out test_pitch.json to see the expected format. Can you throw 15 pitches to get classified as Henry?"
   ]
  },
  {
   "cell_type": "code",
   "execution_count": 6,
   "id": "5d771d39-c741-4226-8463-1c65b80e2a44",
   "metadata": {},
   "outputs": [
    {
     "name": "stdout",
     "output_type": "stream",
     "text": [
      "[(12, 24), (8, 9), (17, 2), (22, 26), (12, 6), (9, 1), (3, 20), (16, 4), (14, 7), (9, 11), (20, 17), (7, 14), (11, 3), (17, 4), (18, 15)]\n"
     ]
    }
   ],
   "source": [
    "# Generates a random set of pitches\n",
    "# You should find your own way\n",
    "from random import randint\n",
    "pitches = [(randint(0, 29), randint(0, 29)) for i in range(15)]\n",
    "print(pitches)"
   ]
  },
  {
   "cell_type": "code",
   "execution_count": 7,
   "id": "be3ce0cc-485f-44d2-a96a-96f197cc999e",
   "metadata": {},
   "outputs": [
    {
     "data": {
      "text/plain": [
       "\"You throw like ['sarah'] with a liklihood of 0.4322355471503037\""
      ]
     },
     "execution_count": 7,
     "metadata": {},
     "output_type": "execute_result"
    }
   ],
   "source": [
    "# Checks your pitch list.\n",
    "# You should not need to change this cell\n",
    "from funcs import check\n",
    "check(pitches)"
   ]
  },
  {
   "cell_type": "code",
   "execution_count": null,
   "id": "e484106e-9341-419e-bb0e-c54c1b7e7a0f",
   "metadata": {},
   "outputs": [],
   "source": []
  }
 ],
 "metadata": {
  "kernelspec": {
   "display_name": "Python 3 (ipykernel)",
   "language": "python",
   "name": "python3"
  },
  "language_info": {
   "codemirror_mode": {
    "name": "ipython",
    "version": 3
   },
   "file_extension": ".py",
   "mimetype": "text/x-python",
   "name": "python",
   "nbconvert_exporter": "python",
   "pygments_lexer": "ipython3",
   "version": "3.11.4"
  }
 },
 "nbformat": 4,
 "nbformat_minor": 5
}
