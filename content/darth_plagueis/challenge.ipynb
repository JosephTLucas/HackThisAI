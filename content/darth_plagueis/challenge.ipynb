{
 "cells": [
  {
   "cell_type": "markdown",
   "id": "1d2a6600-62ab-42aa-8be8-ae4335461bb8",
   "metadata": {},
   "source": [
    "# Darth Plagueis\n",
    "\n",
    "## Scenario\n",
    "There's a [sentiment analysis](https://en.wikipedia.org/wiki/Sentiment_analysis) bot that you want to fool.\n",
    "\n",
    "## Objective\n",
    "Smuggle a permutation of the Darth Plagueis monologue past the bot.\n",
    "\n",
    "You must submit a variation of this string:\n",
    "\n",
    "\"It's not a story the Jedi would tell you. It's a Sith legend. Darth Plagueis was a Dark Lord of the Sith, so powerful and so wise... he could use the Force to influence the midichlorians to create... life. He had such a knowledge of the Dark Side, he could even keep the ones he cared about from dying. The Dark Side of the Force is a pathway to many abilities some consider to be unnatural. He became so powerful... the only thing he was afraid of was losing his power, which eventually, of course, he did. Unfortunately, he taught his apprentice everything he knew, then his apprentice killed him in his sleep. Plagueis never saw it coming. Ironic. He could save others from death, but not himself.\""
   ]
  },
  {
   "cell_type": "code",
   "execution_count": 4,
   "id": "e0c9b5ed-854e-4abe-be5f-6f4cc8c532c2",
   "metadata": {},
   "outputs": [],
   "source": [
    "# this is the original text that you want to modify\n",
    "\n",
    "text = \"It's not a story the Jedi would tell you. \\\n",
    "It's a Sith legend. Darth Plagueis was a Dark Lord of the Sith, so powerful and so wise... \\\n",
    "he could use the Force to influence the midichlorians to create... life. \\\n",
    "He had such a knowledge of the Dark Side, he could even keep the ones he cared about from dying. \\\n",
    "The Dark Side of the Force is a pathway to many abilities some consider to be unnatural. \\\n",
    "He became so powerful... the only thing he was afraid of was losing his power, which eventually, of course, he did. \\\n",
    "Unfortunately, he taught his apprentice everything he knew, then his apprentice killed him in his sleep. \\\n",
    "Plagueis never saw it coming. Ironic. He could save others from death, but not himself.\""
   ]
  },
  {
   "cell_type": "code",
   "execution_count": 6,
   "id": "2bd0026a-edc1-4012-94da-e427f91cefa7",
   "metadata": {},
   "outputs": [
    {
     "data": {
      "text/plain": [
       "'You still seem influenced by the dark side.\\nYour current sentiment score is -0.2828.'"
      ]
     },
     "execution_count": 6,
     "metadata": {},
     "output_type": "execute_result"
    }
   ],
   "source": [
    "# Cell to check results. Do not modify.\n",
    "from funcs import check\n",
    "check(text)"
   ]
  },
  {
   "cell_type": "code",
   "execution_count": null,
   "id": "5b697a95-1abf-44d5-ad3e-82f2b6013531",
   "metadata": {},
   "outputs": [],
   "source": []
  }
 ],
 "metadata": {
  "kernelspec": {
   "display_name": "Python 3 (ipykernel)",
   "language": "python",
   "name": "python3"
  },
  "language_info": {
   "codemirror_mode": {
    "name": "ipython",
    "version": 3
   },
   "file_extension": ".py",
   "mimetype": "text/x-python",
   "name": "python",
   "nbconvert_exporter": "python",
   "pygments_lexer": "ipython3",
   "version": "3.11.4"
  }
 },
 "nbformat": 4,
 "nbformat_minor": 5
}
